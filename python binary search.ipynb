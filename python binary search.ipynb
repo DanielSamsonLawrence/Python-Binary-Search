{
 "cells": [
  {
   "cell_type": "code",
   "execution_count": 1,
   "id": "5776b008",
   "metadata": {},
   "outputs": [],
   "source": [
    "def binary_search(arr,target):\n",
    "    left=0\n",
    "    right=len(arr)-1\n",
    "    \n",
    "    while left<=right:\n",
    "        mid=(left+right)//2\n",
    "        if arr[mid]==target:\n",
    "            return mid\n",
    "        elif arr[mid]<target:\n",
    "            left=mid+1\n",
    "        else:\n",
    "            right=mid-1\n",
    "    \n",
    "    return -1 #target not found\n"
   ]
  },
  {
   "cell_type": "code",
   "execution_count": 4,
   "id": "f1a711ec",
   "metadata": {},
   "outputs": [
    {
     "name": "stdout",
     "output_type": "stream",
     "text": [
      "Target 7 found at index :3\n"
     ]
    }
   ],
   "source": [
    "#example usage\n",
    "\n",
    "sorted_array=[1,3,5,7,9,11,13,15,17]\n",
    "target=7\n",
    "result=binary_search(sorted_array,target)\n",
    "print(f\"Target {target} found at index :{result}\")"
   ]
  },
  {
   "cell_type": "markdown",
   "id": "7a7aa451",
   "metadata": {},
   "source": [
    "Time Complexity:\n",
    "\n",
    "Worst and Average Case  : O(log n), where n is the number of elements in the array.\n",
    "\n",
    "\n",
    "Best Case               : O(1), when the target is found at the middle of the array on the first try."
   ]
  },
  {
   "cell_type": "markdown",
   "id": "e79cd099",
   "metadata": {},
   "source": [
    "Space Complexity:\n",
    "\n",
    "O(1), as it uses a constant amount of extra space regardless of the input size."
   ]
  },
  {
   "cell_type": "markdown",
   "id": "032b2cf7",
   "metadata": {},
   "source": [
    "### Let's implement a linear search algorithm using the same array and compare its space-time complexity with the binary search "
   ]
  },
  {
   "cell_type": "code",
   "execution_count": 5,
   "id": "bbf4a22e",
   "metadata": {},
   "outputs": [],
   "source": [
    "def linear_search(arr,target):\n",
    "    for i in range(len(arr)):\n",
    "        if arr[i] == target:\n",
    "            return i\n",
    "        \n",
    "    return -1"
   ]
  },
  {
   "cell_type": "code",
   "execution_count": 6,
   "id": "6dac3285",
   "metadata": {},
   "outputs": [
    {
     "name": "stdout",
     "output_type": "stream",
     "text": [
      "Target 7 found at index :3\n"
     ]
    }
   ],
   "source": [
    "\n",
    "sorted_array=[1,3,5,7,9,11,13,15,17]\n",
    "target=7\n",
    "result=linear_search(sorted_array,target)\n",
    "print(f\"Target {target} found at index :{result}\")"
   ]
  },
  {
   "cell_type": "markdown",
   "id": "49b50c83",
   "metadata": {},
   "source": [
    "Time Complexity:\n",
    "Linear Search:\n",
    "\n",
    "Worst Case: O(n)\n",
    "Average Case: O(n)\n",
    "Best Case: O(1)"
   ]
  },
  {
   "cell_type": "markdown",
   "id": "686435d0",
   "metadata": {},
   "source": [
    "The linear search is worse in terms of time complexity. \n",
    "\n",
    "It needs to check each element one by one until it finds the target or reaches the end of the array. In the worst case, it might need to check all n elements.\n",
    "\n",
    "\n",
    "On the other hand, binary search repeatedly divides the search interval in half, resulting in a logarithmic time complexity. \n",
    "\n",
    "This makes binary search significantly faster for large sorted arrays."
   ]
  },
  {
   "cell_type": "markdown",
   "id": "b8f78ad1",
   "metadata": {},
   "source": [
    "Space Complexity:\n",
    "Both linear search and binary search have a space complexity of O(1).\n",
    "\n",
    "\n",
    "They both use a constant amount of extra space regardless of the input size.\n",
    "In this aspect, they are equivalent."
   ]
  },
  {
   "cell_type": "code",
   "execution_count": null,
   "id": "d8b0c16f",
   "metadata": {},
   "outputs": [],
   "source": []
  }
 ],
 "metadata": {
  "kernelspec": {
   "display_name": "Python 3 (ipykernel)",
   "language": "python",
   "name": "python3"
  },
  "language_info": {
   "codemirror_mode": {
    "name": "ipython",
    "version": 3
   },
   "file_extension": ".py",
   "mimetype": "text/x-python",
   "name": "python",
   "nbconvert_exporter": "python",
   "pygments_lexer": "ipython3",
   "version": "3.11.5"
  }
 },
 "nbformat": 4,
 "nbformat_minor": 5
}
